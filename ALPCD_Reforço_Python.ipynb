{
  "cells": [
    {
      "cell_type": "markdown",
      "metadata": {
        "id": "4Npjzz0U-fKB"
      },
      "source": [
        "# Sobre Python\n",
        "## Tiago Baptista & Pedro Rangel Henriques\n",
        "\n",
        "Python é uma linguagem de programação de alto nível que pode ser usada em vários domínios (e.g.: aplicações web, processamento de língua natural, machine learning, etc.). É dinamicamente tipada e possui coletor de lixo. Suporta ainda vários paradigmas de programação (funcional, imperativo, orientado a objetos)."
      ]
    },
    {
      "cell_type": "markdown",
      "metadata": {
        "id": "05eHWFsaEeiV"
      },
      "source": []
    },
    {
      "cell_type": "markdown",
      "metadata": {
        "id": "Y9Y4Qmd2_FZ6"
      },
      "source": [
        "### Exercício 1: Potências\n",
        "**a)** Escreva uma função 'potencia' que recebe 2 argumentos: uma base 'b' e um expoente 'e' e que retorna a potência 'b elevado a e'.\n",
        "Primeiro escreva uma versão **iterativa** _'potI()'_ e depois escreva a sua versão **recursiva** 'potR()'"
      ]
    },
    {
      "cell_type": "code",
      "execution_count": 1,
      "metadata": {
        "colab": {
          "base_uri": "https://localhost:8080/"
        },
        "id": "rzoRu_k8-Rch",
        "outputId": "08631136-907e-40a1-da9b-5aec3e39c70e"
      },
      "outputs": [],
      "source": [
        "#prologo\n",
        "## ler base; ler expoente\n",
        "#corpo\n",
        "##potencia = invocar funcao pot(base,exp)\n",
        " ### resultado da funcao pot(base,exp) : res =base * base* .. * base, expoente vezes\n",
        "#epilogo\n",
        "## escrever potencia\n",
        "def potencia(b,e):\n",
        "  pass\n",
        "\n",
        "def potencia_rec(b,e):\n",
        "  pass\n"
      ]
    },
    {
      "cell_type": "markdown",
      "metadata": {
        "id": "u0r8g_W4Ahxa"
      },
      "source": [
        "### Exercício 2: Fatorial\n",
        "**a)** Escreva uma função 'fatorial' que recebe como argumento um número 'n' e que retorna o fatorial de 'n' usando uma definição recursiva para o calculo do resultado."
      ]
    },
    {
      "cell_type": "code",
      "execution_count": null,
      "metadata": {
        "colab": {
          "base_uri": "https://localhost:8080/"
        },
        "id": "h6XoEimAA3pD",
        "outputId": "eddbcf4d-90f2-424b-93b1-edb9f8498d11"
      },
      "outputs": [
        {
          "name": "stdout",
          "output_type": "stream",
          "text": [
            "O fatorial é de  -2  é  1\n",
            "O fatorial é de  -1  é  1\n",
            "O fatorial é de  0  é  1\n",
            "O fatorial é de  1  é  1\n",
            "O fatorial é de  2  é  2\n",
            "O fatorial é de  3  é  6\n",
            "O fatorial é de  4  é  24\n",
            "O fatorial é de  5  é  120\n",
            "O fatorial é de  6  é  720\n",
            "O fatorial é de  7  é  5040\n",
            "O fatorial é de  8  é  40320\n",
            "O fatorial é de  9  é  362880\n",
            "Fatorial de 3\n",
            "6\n"
          ]
        }
      ],
      "source": [
        "#resultado=n*n-1*n-2*...*1\n"
      ]
    },
    {
      "cell_type": "markdown",
      "metadata": {
        "id": "zgaoLtKABHHK"
      },
      "source": [
        "### Exercício 3: Pares\n",
        "a) Escreva uma função 'par' que recebe como argumento um número 'n' e retorna True ou False conforme 'n' seja par ou impar."
      ]
    },
    {
      "cell_type": "code",
      "execution_count": null,
      "metadata": {
        "colab": {
          "base_uri": "https://localhost:8080/"
        },
        "id": "B24_uQkFBT3q",
        "outputId": "92a15c9d-41d7-4783-f9b0-13520e5df04b"
      },
      "outputs": [
        {
          "name": "stdout",
          "output_type": "stream",
          "text": [
            "False\n"
          ]
        }
      ],
      "source": [
        "def isPar(n):\n",
        "  pass\n",
        "\n",
        "\n"
      ]
    },
    {
      "cell_type": "markdown",
      "metadata": {
        "id": "h69dalWeBUgS"
      },
      "source": [
        "b) Escreva um programa que lê números, e por cada um diga 'Número par' ou não escreve nenhuma mensagem conforme o número lido seja par ou não.\n",
        "\n",
        "O programa termina a leitura quando o número for menor ou igual a 0."
      ]
    },
    {
      "cell_type": "code",
      "execution_count": null,
      "metadata": {
        "colab": {
          "base_uri": "https://localhost:8080/"
        },
        "id": "0XVWaCptBn2K",
        "outputId": "3da28e22-663c-408b-b7c7-bb068fa05503"
      },
      "outputs": [
        {
          "name": "stdout",
          "output_type": "stream",
          "text": [
            "Escreva um número: 5\n",
            "False\n",
            "Escreva um número: 8\n",
            "True\n",
            "Escreva um número: -4\n"
          ]
        }
      ],
      "source": [
        "\n"
      ]
    },
    {
      "cell_type": "markdown",
      "metadata": {
        "id": "Baa2FljrBqf8"
      },
      "source": [
        "**c)** Melhore o seu programa permitindo que o número de leituras repetidas seja variável e não o número fixo 10."
      ]
    },
    {
      "cell_type": "code",
      "execution_count": null,
      "metadata": {
        "id": "dns-co_7B1vz"
      },
      "outputs": [],
      "source": [
        "maximo=int(input(\"Escreva o número total de repetições: \"))\n",
        "...\n",
        "\n"
      ]
    },
    {
      "cell_type": "markdown",
      "metadata": {
        "id": "SDCrkj6HHlnM"
      },
      "source": [
        "###Exercicio 4: Conjuntos\n",
        "Considere o conjunto de frutas: maça, pera, pessego , morango, laranja.\n",
        "\n",
        "Escreva uma função que receba esse conjunto e uma outra palavra e diga se a palavra é uma fruta."
      ]
    },
    {
      "cell_type": "code",
      "execution_count": null,
      "metadata": {
        "id": "_t-Y3fauIP6C"
      },
      "outputs": [],
      "source": [
        "\n",
        "def fazparte(palavra,fruteira):\n",
        "  pass\n",
        "\n",
        "# Solução\n",
        "minhasFrutas = {\"maça\", \"pera\", \"pessego\", \"morango\", \"laranja\", \"banana\"}\n",
        "fruta= input(\"Indique uma fruta: \")\n",
        "res= fazparte(fruta, minhasFrutas) #testa se o elemento pertence ao Conj\n",
        "if (res):\n",
        "  print(\"Faz parte da fruteira\")\n",
        "else :\n",
        "  print(\"Não faz parte da fruteira\")"
      ]
    },
    {
      "cell_type": "markdown",
      "metadata": {
        "id": "-7dDd5D0B4Vs"
      },
      "source": [
        "### Exercício 5: Listas\n",
        "Considere a lista 'nums' com os valores:\n",
        "1,3,5,7,8,12,21,45,67,86,99\n",
        "\n",
        "e use essa lista 'nums' para testar cada uma das funções sobre listas pedidas nas alíneas seguintes\n",
        "\n",
        "**a)** Escreva uma função para calcular a média de uma lista usando a função que já calcula o seu comprimento."
      ]
    },
    {
      "cell_type": "code",
      "execution_count": null,
      "metadata": {
        "id": "sHqpcXjXCB2y"
      },
      "outputs": [],
      "source": [
        "nums=[1,3,5,7,8,12,21,45,67,86,99]\n",
        "notas = [14, 14, 14, 14, 14]\n",
        "outraLista = [123, 12, 3, 67, 89, 21, 100]\n",
        "maisLista = [ 129, 200, 340]\n",
        "\n",
        "print(nums[1])\n",
        "print(13 in nums)\n",
        "print(len (nums))\n",
        "nums.append(10) #junta um elemento no fim da lista\n",
        "#nums=nums + [1,3,2,4] #acrescenta uma lista a outra lista\n",
        "nums+= [1,3,2,4] #acrescenta uma lista a outra lista\n",
        "print(nums)\n",
        "\n",
        "def media(nums):\n",
        "  ...\n",
        "\n",
        "print (\"A media da lista dada é: \", media(notas))\n",
        "\n"
      ]
    },
    {
      "cell_type": "markdown",
      "metadata": {
        "id": "uKXxjAuuCDQS"
      },
      "source": [
        "**b)** Escreva uma função para calcular o máximo da lista."
      ]
    },
    {
      "cell_type": "code",
      "execution_count": null,
      "metadata": {
        "id": "_MYdZiCqCM_i"
      },
      "outputs": [],
      "source": [
        "def maximo(l):\n",
        "   return ...\n",
        "\n",
        "print(\"O maior da lista é:\", maximo(outraLista))\n",
        "\n",
        "def miNimo(l):\n",
        "   return ...\n",
        "\n",
        "print(\"O meNor da lista é:\", miNimo(outraLista))\n",
        "print(\"O meNor da lista é:\", miNimo(maisLista))\n",
        "print(\"O meNor da lista é:\", miNimo(notas))\n",
        "\n",
        "print(\"Todos os elemeNtos da lista são iguais? \", miNimo(outraLista)==maximo(outraLista))"
      ]
    },
    {
      "cell_type": "markdown",
      "metadata": {
        "id": "3IG9smnHCNK6"
      },
      "source": [
        "**c)** Escreva uma função que diga quantos números pares existem na lista."
      ]
    },
    {
      "cell_type": "code",
      "execution_count": null,
      "metadata": {
        "id": "FJSFZ6nDCT5S"
      },
      "outputs": [],
      "source": [
        "def par(n):\n",
        "    return (....)\n",
        "\n",
        ".........\n",
        "\n",
        "print(\"O Número total de Pares da lista é:\", coNtaPar(notas))\n",
        "print(\"O Número total de Pares da lista é:\", coNtaPar(maisLista))\n",
        "print(\"O Número total de Pares da lista é:\", coNtaPar(nums))\n",
        "\n",
        "\n"
      ]
    },
    {
      "cell_type": "markdown",
      "metadata": {
        "id": "TMza8rGvCUly"
      },
      "source": [
        "**d)** Escreva uma função que receba um número e uma lista e que conte quantos elementos são maior ou igual ao número dado."
      ]
    },
    {
      "cell_type": "code",
      "execution_count": null,
      "metadata": {
        "id": "jx2isKLOG49F"
      },
      "outputs": [],
      "source": [
        "def maiores(l,k):\n",
        "   res = 0\n",
        "   ...\n",
        "   return res\n",
        "\n",
        "\n",
        "k = int(input(\"Escreva um Número de referência:\"))\n",
        "ct = maiores(nums,k)\n",
        "\n",
        "\n",
        "\n"
      ]
    },
    {
      "cell_type": "markdown",
      "metadata": {
        "id": "Mt97GH1pH5c4"
      },
      "source": [
        "###Exercício 6: Mais Listas\n",
        "**a)** Escreva uma função que receba uma lista e a imprima por ordem inversa, do último para o 1º elemento.\n",
        "\n"
      ]
    },
    {
      "cell_type": "code",
      "execution_count": null,
      "metadata": {
        "id": "1KvthRqyID4F"
      },
      "outputs": [],
      "source": [
        "l=[1,2,3,4,5,6,7,8,9,10]\n",
        "l=[\"a\",\"b\",\"c\",\"d\"]\n",
        "def inverte(l):\n",
        "  ...\n",
        "\n",
        "print(inverte(l))"
      ]
    },
    {
      "cell_type": "markdown",
      "metadata": {
        "id": "Goqw5KCLIEV9"
      },
      "source": [
        "**b)** Escreva um programa que leia numéros positivos, forme com eles uma lista e depois a imprima por ordem inversa."
      ]
    },
    {
      "cell_type": "code",
      "execution_count": null,
      "metadata": {
        "id": "KHUCcserILXe"
      },
      "outputs": [],
      "source": [
        "l=[]\n",
        "n= int(input(\"Escreva um número positivo: \"))\n",
        "while n>0:\n",
        "  ...\n",
        "\n",
        "### Mostra a lista invertida, usando a função inverte, sem usar a função inverte"
      ]
    },
    {
      "cell_type": "markdown",
      "metadata": {
        "id": "Iaym3ORMILut"
      },
      "source": [
        "###Exercício 7: Lista de Coordenadas cartesianas\n",
        "**a)** Escreva um programa que leia uma lista de pontos num plano cartesiano, definidos pela sua abcissa e ordenada, e no fim percorra a lista e indique o quadrante de cada ponto."
      ]
    },
    {
      "cell_type": "code",
      "execution_count": null,
      "metadata": {
        "id": "VWkIzXJjITlm"
      },
      "outputs": [],
      "source": [
        "l=[]\n",
        "\n",
        "#criação da lista\n",
        "for conta in range(1,4):\n",
        " ab= int(input(\"Insira a abcissa:\"))\n",
        " ord= int(input(\"Insira a ordenada:\"))\n",
        " coord= (ab,ord)\n",
        " l.append(coord)\n",
        "\n",
        "#processamento da lista\n",
        "for coord in l:\n",
        " (ab,ord) = coord\n",
        " if ...:\n",
        "  print(\"Pertence ao 1ºquadrante\")\n",
        " elif ...:\n",
        "  print(\"Pertence ao 2ºquardante\")\n",
        " elif ...:\n",
        "  print(\"Pertence ao 3ºquardante\")\n",
        " elif ...:\n",
        "  print(\"Pertence ao 4ºquardante\")\n",
        " elif ...:\n",
        "  print(\"Encontra-se no centro do gráfico\")\n",
        " else:\n",
        "  print(\"Encontra-se num dos eixos\")\n",
        "print(l)"
      ]
    },
    {
      "cell_type": "markdown",
      "metadata": {
        "id": "OXSRyxMCIUhO"
      },
      "source": [
        "**b)** Calcule o declive da reta definida pelos dois primeiros pontos.\n"
      ]
    },
    {
      "cell_type": "code",
      "execution_count": null,
      "metadata": {
        "id": "whT1-vnsI6gW"
      },
      "outputs": [],
      "source": [
        "(ab1,ord1) = l[0]\n",
        "(ab2,ord2) = ...\n",
        "declive = ...\n",
        "print(declive)"
      ]
    },
    {
      "cell_type": "markdown",
      "metadata": {
        "id": "xUvHLtMSG6bt"
      },
      "source": [
        "### Exercício 8: Nomes\n",
        "Escreva um programa que leia um nome completo e escreva o ultimo apelido seguindo do primeiro nome.\n",
        "\n",
        "\"pedro manuel rangel santos henriques\" ==> \"henriques, pedro\""
      ]
    },
    {
      "cell_type": "code",
      "execution_count": null,
      "metadata": {
        "id": "g80L0axeJguG"
      },
      "outputs": [],
      "source": []
    },
    {
      "cell_type": "markdown",
      "metadata": {
        "id": "Z_QG5JAq2OSQ"
      },
      "source": [
        "###Exercicio 9: Dicionários\n",
        "Considere a pauta de uma turma, que ao numero de cada aluno  associa o seu nome\n",
        "e a sua nota\n",
        "\n",
        "pauta = {'a1':(\"joana sousa\",12), 'a11':(\"rui cunha\",19), 'a13':(\"ana moura\",15)}\n",
        "\n",
        "**a)** Escreva uma função que retorna o nome de um aluno dada a pauta e o número."
      ]
    },
    {
      "cell_type": "code",
      "execution_count": null,
      "metadata": {
        "colab": {
          "base_uri": "https://localhost:8080/"
        },
        "id": "JRvo0EeZ2crO",
        "outputId": "5cb5e950-7298-43ab-81ac-7fbbd2ac7901"
      },
      "outputs": [
        {
          "name": "stdout",
          "output_type": "stream",
          "text": [
            "rui cunha\n"
          ]
        }
      ],
      "source": [
        "pauta = {'a1':(\"joana sousa\",12), 'a11':(\"rui cunha\",19), 'a13':(\"ana moura\",15)}\n",
        "\n",
        "...\n"
      ]
    },
    {
      "cell_type": "markdown",
      "metadata": {
        "id": "ZUxMHO_32dFl"
      },
      "source": [
        "**b)** Escreva uma função que retorna a nota de um aluno dada a pauta e o número."
      ]
    },
    {
      "cell_type": "code",
      "execution_count": null,
      "metadata": {
        "id": "aR6gJl1W3V43"
      },
      "outputs": [],
      "source": []
    },
    {
      "cell_type": "markdown",
      "metadata": {
        "id": "LCNVtIwr3VLZ"
      },
      "source": [
        "**c)** Escreva uma função que retorna a nota média da turma dada a pauta.\n"
      ]
    },
    {
      "cell_type": "code",
      "execution_count": null,
      "metadata": {
        "id": "aIer6c273Wuv"
      },
      "outputs": [],
      "source": []
    },
    {
      "cell_type": "markdown",
      "metadata": {
        "id": "St_WXIg7I6wG"
      },
      "source": [
        "###Exercicio 10: Jogo da Forca\n",
        "Implemente o Jogo da Forca começando por ler a palavra a adivinhar.\n",
        "\n",
        "Depois leia um carater de cada vez, e verifique se o jogador consegue adivinhar a palavra escondida.\n",
        "Por cada carater lido o programa deve dizer se o carater não pertence à palavra.\n",
        "\n",
        "Ou então mostrar as posições onde ocorre esse carater na palavra, juntando-o aos carateres já descobertos.\n",
        "O jogo continua até o jogador ter formado a palavra completa ou até esgotar 10 tentativas."
      ]
    },
    {
      "cell_type": "code",
      "execution_count": null,
      "metadata": {
        "id": "hueZi4AoHPLl"
      },
      "outputs": [],
      "source": []
    }
  ],
  "metadata": {
    "colab": {
      "provenance": []
    },
    "kernelspec": {
      "display_name": "Python 3",
      "name": "python3"
    },
    "language_info": {
      "codemirror_mode": {
        "name": "ipython",
        "version": 3
      },
      "file_extension": ".py",
      "mimetype": "text/x-python",
      "name": "python",
      "nbconvert_exporter": "python",
      "pygments_lexer": "ipython3",
      "version": "3.12.4"
    }
  },
  "nbformat": 4,
  "nbformat_minor": 0
}
