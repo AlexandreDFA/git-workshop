{
  "cells": [
    {
      "cell_type": "markdown",
      "metadata": {
        "id": "oVaAea-wCM6H"
      },
      "source": [
        "# Ficha de Expressões Regulares 1\n",
        "\n",
        "Autor Sofia Santos, ano letivo 24/25 (versão PRH/TJB)"
      ]
    },
    {
      "cell_type": "markdown",
      "metadata": {
        "id": "gk5jnHXt9t4y"
      },
      "source": [
        "### Conceitos básicos de expressões regulares\n",
        "\n",
        "- `a` - corresponde a uma ocorrência do caracter `a`.\n",
        "- `a?` - corresponde a 0 ou 1 ocorrências do caracter `a`.\n",
        "- `a+` - corresponde a 1 ou mais ocorrências do caracter `a`.\n",
        "- `a*` - corresponde a 0 ou mais ocorrências do caracter `a`.\n",
        "- `[abc]` - corresponde a uma ocorrência de um dos caracteres `a`, `b` ou `c`.\n",
        "- `[a-z]` - corresponde a uma ocorrência de um caracter entre `a` e `z`.\n",
        "- `^` - corresponde ao início da string.\n",
        "- `$` - corresponde ao fim da string.\n",
        "- `[^abc]` - corresponde a uma ocorrência de qualquer caracter que não seja `a`, `b` ou `c`.\n",
        "\n",
        "Podemos usar o operador de união para unir várias expressões regulares. Por exemplo: `a|bbb|[^a-z]`, que corresponde a uma das várias (neste caso, 3) expressões regulares que fazem parte da união.\n",
        "\n",
        "Podemos simplificar expressões regulares como `bbb` para `b{3}`, ou seja, 3 ocorrências consecutivas do caracter `b`, neste caso. Outras opções incluem `b{3,}` para 3 ou mais ocorrências ou `b{3,6}` para entre 3 a 6 ocorrências, por exemplo.\n",
        "\n",
        "Para formar grupos de expressões regulares, usamos parênteses. Por exemplo: `((abc)*|[0-9]+)?`. Os operadores após um grupo atuam sobre o grupo.\n",
        "\n",
        "Podemos ainda aplicar modificadores a grupos. Por exemplo, `(?i:teste)` corresponde à expressão \"teste\", escrita com qualquer combinação de maiúsculas e minúsculas (e.g., \"TESTE\", \"tEsTe\", \"TEste\", etc.)."
      ]
    },
    {
      "cell_type": "markdown",
      "metadata": {
        "id": "yDRt0yOgJ-TW"
      },
      "source": [
        "## Exemplos feitos em regex101.com\n",
        "\n",
        "ER que define um IDENTIFICADOR em qualquer linguagem de programação\n",
        "\n",
        "[A-Za-z]\\w*\n",
        "\n",
        "\n",
        "\n",
        "\n",
        "\n"
      ]
    },
    {
      "cell_type": "markdown",
      "metadata": {
        "id": "gI05knhniDCr"
      },
      "source": [
        "## Exercício 1\n",
        "\n",
        "### Alínea 1.1\n",
        "\n",
        "Dada uma linha de texto, define um programa que determina se a palavra **\"hello\"** aparece no início da linha.\n",
        "\n",
        "Conceitos importantes para este exercício:\n",
        "\n",
        "- `re.match(pattern, string[, flags])` - analisa a `string` e tenta encontrar uma correspondência para a expressão regular `pattern` a partir do início da string. Devolve `None` se não encontrar nenhuma correspondência.\n",
        "- `r\"\"` - string correspondente a uma expressão regular."
      ]
    },
    {
      "cell_type": "code",
      "execution_count": null,
      "metadata": {
        "colab": {
          "base_uri": "https://localhost:8080/"
        },
        "id": "ufl-7TGph9WH",
        "outputId": "5f4a869a-727b-4919-f5d3-7ef3ff56ac4b"
      },
      "outputs": [
        {
          "name": "stdout",
          "output_type": "stream",
          "text": [
            "Não encontrei nada!\n",
            "HELLO\n"
          ]
        }
      ],
      "source": [
        "from re import *\n",
        "\n",
        "line1 = \"HELLO world\"\n",
        "line2 = \"goodbye world\"\n",
        "line3 = \"hi, hello there\"\n",
        "\n",
        "#res1 = match(r'(?i:hello)', line1)\n",
        "#print(res1)\n",
        "#print(res1.group())\n",
        "\n",
        "res2 = match(r'(?i:hello)', line1)\n",
        "if res2:\n",
        "  print(res2)\n",
        "else:\n",
        "  print(\"Não encontrei nada!\")\n",
        "\n",
        "res3 = match(r'(?i:hello)', line1)\n",
        "if res3:\n",
        "  print(res3.group(0))\n",
        "else:\n",
        "  print(\"Não encontrei nada!\")\n"
      ]
    },
    {
      "cell_type": "markdown",
      "metadata": {
        "id": "gzgOACqiJ7VN"
      },
      "source": [
        "### Alínea 1.2\n",
        "\n",
        "Dada uma linha de texto, define um programa que determina se a palavra \"hello\" aparece em qualquer posição da linha.\n",
        "\n",
        "Conceitos importantes para este exercício:\n",
        "\n",
        "- `re.search(pattern, string[, flags])` - analisa a `string` e tenta encontrar uma correspondência para a expressão regular `pattern` em qualquer posição da string. Devolve `None` se não encontrar nenhuma correspondência."
      ]
    },
    {
      "cell_type": "code",
      "execution_count": null,
      "metadata": {
        "colab": {
          "base_uri": "https://localhost:8080/"
        },
        "id": "TM-qMl-yJ7VS",
        "outputId": "89a42ffc-b3b3-4579-8dd1-f09286674f76"
      },
      "outputs": [
        {
          "name": "stdout",
          "output_type": "stream",
          "text": [
            "Não encontrei nada!\n"
          ]
        }
      ],
      "source": [
        "import re\n",
        "line1 = \"hello world\"\n",
        "line2 = \"goodbye world\"\n",
        "line3 = \"hi, helLO there\"\n",
        "line4 = \"HeLLo, Hello, HELLO, hello there! hello, girls!! hello, guys!!!\"\n",
        "line5 = \"\"\n",
        "\n",
        "res2 = search(r'(?i:hello)', line5)\n",
        "if res2:\n",
        "  print(res2)\n",
        "else:\n",
        "  print(\"Não encontrei nada!\")\n",
        "\n",
        "\n",
        "\n"
      ]
    },
    {
      "cell_type": "markdown",
      "metadata": {
        "id": "6ZE7klswOy90"
      },
      "source": [
        "### Alínea 1.3\n",
        "\n",
        "Dada uma linha de texto, define um programa que pesquisa por todas as ocorrências da palavra \"hello\" dentro da linha, admitindo que a palavra seja escrita com maiúsculas ou minúsculas.\n",
        "\n",
        "Conceitos importantes para este exercício:\n",
        "\n",
        "- `re.findall(pattern, string[, flags])` - encontra todas as correspondências que não se sobreponham da expressão regular `pattern` na `string`. Devolve uma lista."
      ]
    },
    {
      "cell_type": "code",
      "execution_count": null,
      "metadata": {
        "colab": {
          "base_uri": "https://localhost:8080/"
        },
        "id": "aHB_l7g5OzNY",
        "outputId": "cd8e2e55-d1bb-4a74-ec2a-be4cef63d9af"
      },
      "outputs": [
        {
          "name": "stdout",
          "output_type": "stream",
          "text": [
            "Ocorreu 4 vezes\n",
            "['Hello', 'hello', 'hello', 'HELLO']\n"
          ]
        }
      ],
      "source": [
        "from re import *\n",
        "line = \"Hello there! Uh, hi, hello, it's me... Heyyy, hello? HELLO!\"\n",
        "\n",
        "#testInput = input('>> ')\n",
        "#while testInput != '':\n",
        " # .......\n",
        "  #testInput = input('>> ')\n",
        "\n",
        "res2 = findall(r'(?i:hello)', line)\n",
        "#res2 = findall(r'(?i:hello)', \"\")\n",
        "if res2:\n",
        "  print(\"Ocorreu\", len(res2), \"vezes\")\n",
        "  print(res2)\n",
        "else:\n",
        "  print(\"Não encontrei nada!\")\n",
        "\n"
      ]
    },
    {
      "cell_type": "markdown",
      "metadata": {
        "id": "TSwUj26OPRmP"
      },
      "source": [
        "### Alínea 1.4\n",
        "\n",
        "Dada uma linha de texto, define um programa que pesquisa por todas as ocorrências da palavra \"hello\" (**Maiúsculas ou Minúsculas**\n",
        ") dentro da linha, substituindo cada uma por \"\\*YEP\\*\".\n",
        "\n",
        "Conceitos importantes para este exercício:\n",
        "\n",
        "- `re.sub(pattern, replacement, string, count = 0)` - substitui todas as correspondências da expressão regular `pattern` na `string` por `replacement`. `replacement` pode ser uma string, uma expressão regular ou uma função que recebe uma correspondência e devolve uma string. O parâmetro opcional `count` determina o limite de substituições (por omissão é 0, ou seja, não há limite)."
      ]
    },
    {
      "cell_type": "code",
      "execution_count": 10,
      "metadata": {
        "colab": {
          "base_uri": "https://localhost:8080/",
          "height": 108
        },
        "id": "SXLK2rhMPf11",
        "outputId": "56cb0459-8635-4b5d-bcfa-d24e1189d76f"
      },
      "outputs": [
        {
          "name": "stdout",
          "output_type": "stream",
          "text": [
            "Hello #### #### #### hello, it's me... Heyyy, hello? HELLO!\n"
          ]
        }
      ],
      "source": [
        "import re\n",
        "line = \"Hello there! Uh, hi, hello, it's me... Heyyy, hello? HELLO!\"\n",
        "line2 = \"O meu telemóvel é 954324028 ou 9684122875 ou 931212411. O dele é 203604468. O do zé é 150305152\"\n",
        "# ...\n",
        "\n",
        "def troca(pattern, replacement, string):\n",
        "  res=re.sub(pattern,replacement,string)\n",
        "  return res\n",
        "\n",
        "#print(troca(r\"(?i:hello)\",\"*YEP*\", line))\n",
        "#print(troca(r\"[0-9]{9}\", \"*\", line2))\n",
        "#print(troca(r\"[29][0-9]{8}\", \"*\", line2))\n",
        "#print(troca(r\"(2[1-9][0-9]{7})|(9[1236][0-9]{7})\", \"++\", line2))\n",
        "print(re.sub(r\"(?i:[a-z]+[,?!])\",\"####\", line, 3))\n"
      ]
    },
    {
      "cell_type": "markdown",
      "metadata": {
        "id": "MrgsEzJCPgbO"
      },
      "source": [
        "### Alínea 1.5\n",
        "\n",
        "Dada uma linha de texto, define um programa que pesquisa por todas as ocorrências do caracter vírgula, separando cada parte da linha por esse caracter.\n",
        "\n",
        "Conceitos importantes para este exercício:\n",
        "\n",
        "- `re.split(pattern, string, maxsplit = 0)` - divide a `string` com base nas correspondências da expressão regular `pattern`. O parâmetro opcional `maxsplit` pode ser usado para definir um limite de divisões (por omissão é 0, que corresponde a qualquer números de divisões)."
      ]
    },
    {
      "cell_type": "code",
      "execution_count": 20,
      "metadata": {
        "id": "vrwiid6XPgvg"
      },
      "outputs": [
        {
          "name": "stdout",
          "output_type": "stream",
          "text": [
            "['bananas', 'laranjas', 'maçãs', 'uvas', 'melancias', 'cerejas', 'kiwis', 'uvas', 'etc.']\n",
            "9\n",
            "kiwis\n",
            "bananas\n",
            "melancias\n",
            "maçãs\n",
            "uvas\n",
            "cerejas\n",
            "etc.\n",
            "laranjas\n",
            "<class 'str'>\n",
            "<class 'list'>\n"
          ]
        }
      ],
      "source": [
        "import re\n",
        "line = \"bananas, laranjas, maçãs,  uvas, melancias, cerejas, kiwis,uvas, etc.\"\n",
        "\n",
        "res = re.split(r',\\s*',line)\n",
        "print(res)\n",
        "print(len(res))\n",
        "frutas=set(res)\n",
        "for fruta in frutas:\n",
        "    print(fruta)\n",
        "print(type(line))\n",
        "print(type(res))\n",
        "#"
      ]
    },
    {
      "cell_type": "markdown",
      "metadata": {
        "id": "6QP0erT4iSzE"
      },
      "source": [
        "## Exercício 2\n",
        "\n",
        "Define a função `palavra_magica` que recebe uma frase e determina se a mesma termina com a expressão \"por favor\", seguida de um sinal válido de pontuação."
      ]
    },
    {
      "cell_type": "code",
      "execution_count": null,
      "metadata": {
        "id": "MhCC49z7jU7n"
      },
      "outputs": [],
      "source": [
        "import re\n",
        "\n",
        "def palavra_magica(frase):\n",
        " ......\n",
        " ......\n",
        "\n",
        "\n",
        "print(palavra_magica(\"Posso ir à casa de banho, por  favor? miguel\"))\n",
        "print(palavra_magica(\"Posso ir à casa de banho, por favor.\"))\n",
        "print(palavra_magica(\"Preciso de um favor.\"))"
      ]
    },
    {
      "cell_type": "markdown",
      "metadata": {
        "id": "L71wvPCujpBD"
      },
      "source": [
        "## Exercício 3\n",
        "\n",
        "Define a função `narcissismo` que calcula quantas vezes a palavra \"eu\" aparece numa string."
      ]
    },
    {
      "cell_type": "code",
      "execution_count": null,
      "metadata": {
        "id": "0HxFCow5nOj8"
      },
      "outputs": [],
      "source": [
        "from re import *\n",
        "\n",
        "texto =\"\"\"Estáquio disse: Eu não sei se deu, mas eu quero continuar a ser eu, Eufrásia.\n",
        "Por outro lado, eu ser eu é uma parte importante de qeum EU sou.\"\"\"\n",
        "\n",
        "def narcissismo(linha):\n",
        "  return ...................\n",
        "\n",
        "print(narcissismo(texto))"
      ]
    },
    {
      "cell_type": "markdown",
      "metadata": {
        "id": "EKETfRaOolO4"
      },
      "source": [
        "## Exercício 4\n",
        "\n",
        "Define a função `troca_de_curso` que substitui todas as ocorrências de \"LEI\" numa linha pelo nome do curso dado à função."
      ]
    },
    {
      "cell_type": "code",
      "execution_count": null,
      "metadata": {
        "id": "8ZVPMxfZpRrx"
      },
      "outputs": [],
      "source": [
        "import re\n",
        "\n",
        "def troca_de_curso(linha, novo_curso):\n",
        "  return ......\n",
        "\n",
        "fonte = \"LEI é o melhor curso! Adoro LEI! Gostar de LEI devia ser uma lei.\"\n",
        "curso = input(\"Novo curso? \")\n",
        "print(troca_de_curso(fonte, curso))\n"
      ]
    },
    {
      "cell_type": "markdown",
      "metadata": {
        "id": "GZKMkTKcp886"
      },
      "source": [
        "## Exercício 5\n",
        "\n",
        "Define a função `soma_string` que recebe uma string com vários números separados por uma vírgula (e.g., \"1,2,3,4,5\") e devolve a soma destes números."
      ]
    },
    {
      "cell_type": "code",
      "execution_count": null,
      "metadata": {
        "id": "ExqmZwj_rzuR"
      },
      "outputs": [],
      "source": [
        "import re\n",
        "\n",
        "def soma_string(linha):\n",
        "\n",
        "  return\n",
        "\n",
        "print(soma_string(\"4,10,-6,2,3,8,-3,0,2,-5,1\"))\n"
      ]
    },
    {
      "cell_type": "markdown",
      "metadata": {
        "id": "n49iafoNzw-3"
      },
      "source": [
        "## Exercício 6\n",
        "\n",
        "Define a função `pronomes` que encontra e devolve todos os pronomes pessoais presentes numa frase, i.e., \"eu\", \"tu\", \"ele\", \"ela\", etc., com atenção para letras maiúsculas ou minúsculas.\n",
        "\n",
        "Calcule e mostre também o conjunto dos pronomes encontrados (note que \"eu\" e \"EU\" são o mesmo elemento)."
      ]
    },
    {
      "cell_type": "code",
      "execution_count": null,
      "metadata": {
        "id": "RnuCrz2H0DWq"
      },
      "outputs": [],
      "source": [
        "import re\n",
        "\n",
        "def tolower(lista):\n",
        "  res = []\n",
        "  for palavra in lista:\n",
        "    res += [palavra.lower()]\n",
        "  return res\n",
        "\n",
        "\n",
        "\n",
        "frase = \"Ola eu vou de certeza. Tu e ele, vêm? Eu não espero por vós. Eu estou com pressa, ele tem de vir!\"\n",
        "\n",
        "pslist = pronomes(frase)\n",
        "pslist = tolower(pslist)\n",
        "print('pslist: ',pslist)\n",
        "\n"
      ]
    },
    {
      "cell_type": "code",
      "execution_count": null,
      "metadata": {
        "id": "LlSNxK1nYsc0"
      },
      "outputs": [],
      "source": []
    },
    {
      "cell_type": "markdown",
      "metadata": {
        "id": "BHMk88OQ0XFY"
      },
      "source": [
        "## Exercício 7\n",
        "\n",
        "Define a função `variavel_valida` que recebe uma string e determina se a mesma é um nome válido para uma variável, ou seja, se começa por uma letra e apenas contém letras, números ou *underscores*."
      ]
    },
    {
      "cell_type": "code",
      "execution_count": null,
      "metadata": {
        "id": "YTQW91Ws1WLx"
      },
      "outputs": [],
      "source": [
        "import re\n",
        "\n",
        "id0 = \"Turma\"\n",
        "id1  \"_tot_\"\n",
        "id2 = \"_tot_1.turma-2\"\n",
        "id3 = \"tot_1.turma-2\"\n",
        "id4 = \"tot_1_turma_2\"\n",
        "id5 = \"tot1turma2\"\n",
        "\n",
        "XXXX = [id0] + [id1] + [id2] + [id3] + [id4] + [id5]\n",
        "\n",
        "def variavel_valida(pal):\n",
        "   return (\"Válida\" if re.match('[a-zA-Z]\\w*$' , pal) else \"Inválida\")\n",
        "\n",
        "for id in XXXX :\n",
        "  print(variavel_valida(id))"
      ]
    },
    {
      "cell_type": "code",
      "execution_count": null,
      "metadata": {
        "id": "h4DvOgXwRwiB"
      },
      "outputs": [],
      "source": []
    },
    {
      "cell_type": "markdown",
      "metadata": {
        "id": "ZRWbgkMM5qzx"
      },
      "source": [
        "## Exercício 8\n",
        "\n",
        "Define a função `inteiros` que devolve todos os números inteiros presentes numa string. Um número inteiro pode conter um ou mais dígitos e pode ser positivo ou negativo."
      ]
    },
    {
      "cell_type": "code",
      "execution_count": null,
      "metadata": {
        "id": "jsmiEi6gA7vh"
      },
      "outputs": [],
      "source": [
        "def inteiros(frase):\n",
        "\n",
        "\n",
        "frase = \"1.23dsds2,22-3-54ola+567\"\n",
        "\n",
        "print(inteiros(frase))"
      ]
    },
    {
      "cell_type": "markdown",
      "metadata": {
        "id": "QhpGhtBT7aD3"
      },
      "source": [
        "\n",
        "## Exercício 9\n",
        "\n",
        "Define a função `underscores` que substitui todos os espaços numa string por *underscores*. Se aparecerem vários espaços seguidos, devem ser substituídos por apenas um *underscore*."
      ]
    },
    {
      "cell_type": "code",
      "execution_count": null,
      "metadata": {
        "id": "1YTIkZT-6Ase"
      },
      "outputs": [],
      "source": [
        "import re\n",
        "\n",
        "texto = \"Aqui temos   um belo   exemplo   de frase    completamente  maluca  !\"\n",
        "\n",
        "def underscores( frase ):\n",
        "  return UUUUUU\n",
        "\n",
        "\n",
        "print(underscores(texto))\n"
      ]
    },
    {
      "cell_type": "markdown",
      "metadata": {
        "id": "xcUrRlIy8uof"
      },
      "source": [
        "## Exercício 10\n",
        "\n",
        "Define a função `codigos_postais` que recebe uma lista de códigos postais válidos e divide-os com base no hífen. A função deve devolver uma lista de pares."
      ]
    },
    {
      "cell_type": "code",
      "execution_count": null,
      "metadata": {
        "id": "6xj01Oy09ncO"
      },
      "outputs": [],
      "source": [
        "from re import *\n",
        "\n",
        "lista = [\n",
        "    \"4700-000\",\n",
        "    \"1234-567\",\n",
        "    \"8541-543\",\n",
        "    \"4123-974\",\n",
        "    \"9481-025\"\n",
        "]\n",
        "\n",
        "def codigos_postais( texto ):\n"
      ]
    }
  ],
  "metadata": {
    "colab": {
      "provenance": []
    },
    "kernelspec": {
      "display_name": "Python 3",
      "name": "python3"
    },
    "language_info": {
      "codemirror_mode": {
        "name": "ipython",
        "version": 3
      },
      "file_extension": ".py",
      "mimetype": "text/x-python",
      "name": "python",
      "nbconvert_exporter": "python",
      "pygments_lexer": "ipython3",
      "version": "3.12.4"
    }
  },
  "nbformat": 4,
  "nbformat_minor": 0
}
